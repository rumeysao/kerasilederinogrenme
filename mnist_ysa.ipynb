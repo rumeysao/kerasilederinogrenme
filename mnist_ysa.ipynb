{
  "nbformat": 4,
  "nbformat_minor": 0,
  "metadata": {
    "colab": {
      "name": "mnist_ysa.ipynb",
      "provenance": [],
      "authorship_tag": "ABX9TyPgYoX7qJRPBXbXCVE8URQm",
      "include_colab_link": true
    },
    "kernelspec": {
      "name": "python3",
      "display_name": "Python 3"
    }
  },
  "cells": [
    {
      "cell_type": "markdown",
      "metadata": {
        "id": "view-in-github",
        "colab_type": "text"
      },
      "source": [
        "<a href=\"https://colab.research.google.com/github/rumeysao/kerasilederinogrenme/blob/main/mnist_ysa.ipynb\" target=\"_parent\"><img src=\"https://colab.research.google.com/assets/colab-badge.svg\" alt=\"Open In Colab\"/></a>"
      ]
    },
    {
      "cell_type": "markdown",
      "metadata": {
        "id": "WG1cb22tVPWg"
      },
      "source": [
        "## MNİST VERİ KÜMESİNİ KULLANARAK YAPAY SİNİR AĞLARI İLE RAKAM SINIFLANDIRMA\r\n"
      ]
    },
    {
      "cell_type": "markdown",
      "metadata": {
        "id": "n1BPv1T9VGUj"
      },
      "source": [
        "### Mnist veri kümesini yüklemek"
      ]
    },
    {
      "cell_type": "code",
      "metadata": {
        "colab": {
          "base_uri": "https://localhost:8080/"
        },
        "id": "zEIJKkYVNk7z",
        "outputId": "34bb3913-60aa-40de-e95e-8b830b822850"
      },
      "source": [
        "from keras.datasets import mnist\r\n",
        "\r\n",
        "(train_images, train_labels),(test_images, test_labels )= mnist.load_data()"
      ],
      "execution_count": 1,
      "outputs": [
        {
          "output_type": "stream",
          "text": [
            "Downloading data from https://storage.googleapis.com/tensorflow/tf-keras-datasets/mnist.npz\n",
            "11493376/11490434 [==============================] - 0s 0us/step\n"
          ],
          "name": "stdout"
        }
      ]
    },
    {
      "cell_type": "code",
      "metadata": {
        "colab": {
          "base_uri": "https://localhost:8080/"
        },
        "id": "o_uCAfCXScKh",
        "outputId": "bd3149bd-5180-46c7-eae4-e828e825ae75"
      },
      "source": [
        "train_images.shape"
      ],
      "execution_count": 2,
      "outputs": [
        {
          "output_type": "execute_result",
          "data": {
            "text/plain": [
              "(60000, 28, 28)"
            ]
          },
          "metadata": {
            "tags": []
          },
          "execution_count": 2
        }
      ]
    },
    {
      "cell_type": "code",
      "metadata": {
        "colab": {
          "base_uri": "https://localhost:8080/"
        },
        "id": "kyGQ2OJ1Sjcn",
        "outputId": "5d166cd7-da08-41aa-df2b-7b2742398db3"
      },
      "source": [
        "len(train_images)"
      ],
      "execution_count": 3,
      "outputs": [
        {
          "output_type": "execute_result",
          "data": {
            "text/plain": [
              "60000"
            ]
          },
          "metadata": {
            "tags": []
          },
          "execution_count": 3
        }
      ]
    },
    {
      "cell_type": "code",
      "metadata": {
        "colab": {
          "base_uri": "https://localhost:8080/"
        },
        "id": "VJ374r4cSrp9",
        "outputId": "17c09aa1-c38c-4a4e-9b73-67889254bb84"
      },
      "source": [
        "train_labels"
      ],
      "execution_count": 5,
      "outputs": [
        {
          "output_type": "execute_result",
          "data": {
            "text/plain": [
              "array([5, 0, 4, ..., 5, 6, 8], dtype=uint8)"
            ]
          },
          "metadata": {
            "tags": []
          },
          "execution_count": 5
        }
      ]
    },
    {
      "cell_type": "code",
      "metadata": {
        "colab": {
          "base_uri": "https://localhost:8080/"
        },
        "id": "Crr5ueKGSxCD",
        "outputId": "877f44eb-46d6-4b2d-abc6-b0787214563f"
      },
      "source": [
        "test_images.shape"
      ],
      "execution_count": 6,
      "outputs": [
        {
          "output_type": "execute_result",
          "data": {
            "text/plain": [
              "(10000, 28, 28)"
            ]
          },
          "metadata": {
            "tags": []
          },
          "execution_count": 6
        }
      ]
    },
    {
      "cell_type": "code",
      "metadata": {
        "colab": {
          "base_uri": "https://localhost:8080/"
        },
        "id": "AM3Bw_nzVCKH",
        "outputId": "f19bb904-898b-4ba5-f9b4-f0923a657cc7"
      },
      "source": [
        "test_labels"
      ],
      "execution_count": 7,
      "outputs": [
        {
          "output_type": "execute_result",
          "data": {
            "text/plain": [
              "array([7, 2, 1, ..., 4, 5, 6], dtype=uint8)"
            ]
          },
          "metadata": {
            "tags": []
          },
          "execution_count": 7
        }
      ]
    },
    {
      "cell_type": "markdown",
      "metadata": {
        "id": "D_hvsfh7VwaU"
      },
      "source": [
        "## Yapay sinir ağı mimarisi"
      ]
    },
    {
      "cell_type": "code",
      "metadata": {
        "id": "kkVlEdprVz5D"
      },
      "source": [
        "from keras import models \r\n",
        "from keras import layers\r\n"
      ],
      "execution_count": 8,
      "outputs": []
    },
    {
      "cell_type": "code",
      "metadata": {
        "id": "fWAsiqvrVEgR"
      },
      "source": [
        "network = models.Sequential()\r\n",
        "network.add(layers.Dense(512, activation='relu',\r\n",
        "                         input_shape = (28*28,)))\r\n",
        "network.add(layers.Dense(10, activation = 'softmax'))"
      ],
      "execution_count": 10,
      "outputs": []
    },
    {
      "cell_type": "markdown",
      "metadata": {
        "id": "8nbkfHviWccL"
      },
      "source": [
        "### YSA Modelinin derlenmesi"
      ]
    },
    {
      "cell_type": "code",
      "metadata": {
        "id": "fkQfYP-tWXf4"
      },
      "source": [
        "network.compile(optimizer = 'rmsprop',\r\n",
        "                loss = 'categorical_crossentropy',\r\n",
        "                metrics = ['accuracy'])"
      ],
      "execution_count": 16,
      "outputs": []
    },
    {
      "cell_type": "markdown",
      "metadata": {
        "id": "3ocDD9hiXMBR"
      },
      "source": [
        "### Girişlerin ve etiketlerin hazırlanması"
      ]
    },
    {
      "cell_type": "code",
      "metadata": {
        "id": "d6EIFZnaW-OZ"
      },
      "source": [
        "train_images = train_images.reshape((60000, 28*28))\r\n",
        "train_images = train_images.astype('float32') /255\r\n",
        "\r\n",
        "test_images = test_images.reshape((10000, 28*28))\r\n",
        "test_images = test_images.astype('float32') /255"
      ],
      "execution_count": 18,
      "outputs": []
    },
    {
      "cell_type": "code",
      "metadata": {
        "id": "SECTq3fxXsLU"
      },
      "source": [
        "from keras.utils import to_categorical\r\n",
        "\r\n",
        "train_labels = to_categorical(train_labels)\r\n",
        "test_labels = to_categorical(test_labels)"
      ],
      "execution_count": 20,
      "outputs": []
    },
    {
      "cell_type": "markdown",
      "metadata": {
        "id": "8kW6ZpeKX7ca"
      },
      "source": [
        "### Yapay sinir ağı modelinin eğitilmesi"
      ]
    },
    {
      "cell_type": "code",
      "metadata": {
        "colab": {
          "base_uri": "https://localhost:8080/"
        },
        "id": "0NQmAVUPX6YP",
        "outputId": "3756409e-281b-46b1-f574-d868159134be"
      },
      "source": [
        "network.fit(train_images, train_labels, epochs = 5,\r\n",
        "            batch_size= 128)"
      ],
      "execution_count": 21,
      "outputs": [
        {
          "output_type": "stream",
          "text": [
            "Epoch 1/5\n",
            "469/469 [==============================] - 5s 9ms/step - loss: 0.4259 - accuracy: 0.8750\n",
            "Epoch 2/5\n",
            "469/469 [==============================] - 4s 9ms/step - loss: 0.1139 - accuracy: 0.9656\n",
            "Epoch 3/5\n",
            "469/469 [==============================] - 4s 9ms/step - loss: 0.0693 - accuracy: 0.9796\n",
            "Epoch 4/5\n",
            "469/469 [==============================] - 4s 9ms/step - loss: 0.0516 - accuracy: 0.9857\n",
            "Epoch 5/5\n",
            "469/469 [==============================] - 4s 9ms/step - loss: 0.0360 - accuracy: 0.9890\n"
          ],
          "name": "stdout"
        },
        {
          "output_type": "execute_result",
          "data": {
            "text/plain": [
              "<tensorflow.python.keras.callbacks.History at 0x7fba1d89f588>"
            ]
          },
          "metadata": {
            "tags": []
          },
          "execution_count": 21
        }
      ]
    },
    {
      "cell_type": "code",
      "metadata": {
        "colab": {
          "base_uri": "https://localhost:8080/"
        },
        "id": "Hq8PrrfhYQeJ",
        "outputId": "3370d14e-f5dc-4564-97fb-360a48438cbd"
      },
      "source": [
        "test_loss, test_acc = network.evaluate(test_images, test_labels)"
      ],
      "execution_count": 22,
      "outputs": [
        {
          "output_type": "stream",
          "text": [
            "313/313 [==============================] - 1s 2ms/step - loss: 0.0646 - accuracy: 0.9813\n"
          ],
          "name": "stdout"
        }
      ]
    },
    {
      "cell_type": "code",
      "metadata": {
        "colab": {
          "base_uri": "https://localhost:8080/"
        },
        "id": "kyRTuze_YbRA",
        "outputId": "a1551649-e3df-472a-caaf-c36c431bd7e8"
      },
      "source": [
        "print(\"test loss:\", test_loss)"
      ],
      "execution_count": 24,
      "outputs": [
        {
          "output_type": "stream",
          "text": [
            "test loss: 0.06460535526275635\n"
          ],
          "name": "stdout"
        }
      ]
    },
    {
      "cell_type": "code",
      "metadata": {
        "colab": {
          "base_uri": "https://localhost:8080/"
        },
        "id": "MM8uC7gYYhJe",
        "outputId": "966e3e2f-31f5-4f21-88ff-f2e4b45f081a"
      },
      "source": [
        "print(\"test accuracy:\", test_acc)"
      ],
      "execution_count": 25,
      "outputs": [
        {
          "output_type": "stream",
          "text": [
            "test accuracy: 0.9812999963760376\n"
          ],
          "name": "stdout"
        }
      ]
    }
  ]
}