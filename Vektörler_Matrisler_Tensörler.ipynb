{
  "nbformat": 4,
  "nbformat_minor": 0,
  "metadata": {
    "colab": {
      "name": "Vektörler / Matrisler/ Tensörler.ipynb",
      "provenance": [],
      "authorship_tag": "ABX9TyOvPTbuZHEu2XiWLzvMFVc1",
      "include_colab_link": true
    },
    "kernelspec": {
      "name": "python3",
      "display_name": "Python 3"
    }
  },
  "cells": [
    {
      "cell_type": "markdown",
      "metadata": {
        "id": "view-in-github",
        "colab_type": "text"
      },
      "source": [
        "<a href=\"https://colab.research.google.com/github/rumeysao/kerasilederinogrenme/blob/main/Vekt%C3%B6rler_Matrisler_Tens%C3%B6rler.ipynb\" target=\"_parent\"><img src=\"https://colab.research.google.com/assets/colab-badge.svg\" alt=\"Open In Colab\"/></a>"
      ]
    },
    {
      "cell_type": "markdown",
      "metadata": {
        "id": "5DFmo9FGVVsN"
      },
      "source": [
        "## Vektörler"
      ]
    },
    {
      "cell_type": "code",
      "metadata": {
        "colab": {
          "base_uri": "https://localhost:8080/"
        },
        "id": "I8aaq2CHVZ85",
        "outputId": "6c904369-882f-457c-fa55-94c42c2bedf4"
      },
      "source": [
        "import numpy as np\r\n",
        "x = np.array(7)\r\n",
        "x"
      ],
      "execution_count": null,
      "outputs": [
        {
          "output_type": "execute_result",
          "data": {
            "text/plain": [
              "array(7)"
            ]
          },
          "metadata": {
            "tags": []
          },
          "execution_count": 1
        }
      ]
    },
    {
      "cell_type": "code",
      "metadata": {
        "colab": {
          "base_uri": "https://localhost:8080/"
        },
        "id": "-KTd4Xw0ViKO",
        "outputId": "24f706e7-0672-4cfa-ac8f-6d91eb5ba57d"
      },
      "source": [
        "x.ndim #boyutu "
      ],
      "execution_count": null,
      "outputs": [
        {
          "output_type": "execute_result",
          "data": {
            "text/plain": [
              "0"
            ]
          },
          "metadata": {
            "tags": []
          },
          "execution_count": 2
        }
      ]
    },
    {
      "cell_type": "code",
      "metadata": {
        "colab": {
          "base_uri": "https://localhost:8080/"
        },
        "id": "8hvL8DotVnhj",
        "outputId": "fe236350-bc1a-435f-bf90-52900f235736"
      },
      "source": [
        "x = np.array([7, 14, 21])\r\n",
        "x\r\n",
        "x.ndim"
      ],
      "execution_count": null,
      "outputs": [
        {
          "output_type": "execute_result",
          "data": {
            "text/plain": [
              "1"
            ]
          },
          "metadata": {
            "tags": []
          },
          "execution_count": 4
        }
      ]
    },
    {
      "cell_type": "markdown",
      "metadata": {
        "id": "dMj7pTrDVymG"
      },
      "source": [
        "## Matris"
      ]
    },
    {
      "cell_type": "code",
      "metadata": {
        "colab": {
          "base_uri": "https://localhost:8080/"
        },
        "id": "kTh7gHYrV2sB",
        "outputId": "26355ecc-6602-40fc-b4eb-c2ea1af5e929"
      },
      "source": [
        "x= np.array([[7, 14, 21],\r\n",
        "            [7, 14, 21],\r\n",
        "            [7, 14, 21]])\r\n",
        "x\r\n"
      ],
      "execution_count": null,
      "outputs": [
        {
          "output_type": "execute_result",
          "data": {
            "text/plain": [
              "array([[ 7, 14, 21],\n",
              "       [ 7, 14, 21],\n",
              "       [ 7, 14, 21]])"
            ]
          },
          "metadata": {
            "tags": []
          },
          "execution_count": 6
        }
      ]
    },
    {
      "cell_type": "code",
      "metadata": {
        "colab": {
          "base_uri": "https://localhost:8080/"
        },
        "id": "vNQ6tP6NWE_T",
        "outputId": "bfb3741b-203d-4be0-fe34-94786964ae00"
      },
      "source": [
        "x.ndim"
      ],
      "execution_count": null,
      "outputs": [
        {
          "output_type": "execute_result",
          "data": {
            "text/plain": [
              "2"
            ]
          },
          "metadata": {
            "tags": []
          },
          "execution_count": 7
        }
      ]
    },
    {
      "cell_type": "markdown",
      "metadata": {
        "id": "_wNC3CDPWH3E"
      },
      "source": [
        "## Tensor"
      ]
    },
    {
      "cell_type": "code",
      "metadata": {
        "colab": {
          "base_uri": "https://localhost:8080/"
        },
        "id": "8YQvWcF6WGRr",
        "outputId": "c57ce276-b688-493c-9179-77cd5f733b4b"
      },
      "source": [
        "x = np.array([[[7, 14, 21],\r\n",
        "              [7, 14, 21]],\r\n",
        "             [[87, 12, 75],\r\n",
        "              [87,12,75]],\r\n",
        "              [[45,78,32],\r\n",
        "               [45,78,32]]])\r\n",
        "x"
      ],
      "execution_count": null,
      "outputs": [
        {
          "output_type": "execute_result",
          "data": {
            "text/plain": [
              "array([[[ 7, 14, 21],\n",
              "        [ 7, 14, 21]],\n",
              "\n",
              "       [[87, 12, 75],\n",
              "        [87, 12, 75]],\n",
              "\n",
              "       [[45, 78, 32],\n",
              "        [45, 78, 32]]])"
            ]
          },
          "metadata": {
            "tags": []
          },
          "execution_count": 10
        }
      ]
    },
    {
      "cell_type": "code",
      "metadata": {
        "colab": {
          "base_uri": "https://localhost:8080/"
        },
        "id": "XFijvam7Wwv8",
        "outputId": "e8e36fdc-0034-4a40-97fb-46ef17374cc9"
      },
      "source": [
        "x.ndim"
      ],
      "execution_count": null,
      "outputs": [
        {
          "output_type": "execute_result",
          "data": {
            "text/plain": [
              "3"
            ]
          },
          "metadata": {
            "tags": []
          },
          "execution_count": 11
        }
      ]
    },
    {
      "cell_type": "markdown",
      "metadata": {
        "id": "uvDSV-svW9uh"
      },
      "source": [
        "### Görüntü verisetinden örnek gösterim"
      ]
    },
    {
      "cell_type": "code",
      "metadata": {
        "colab": {
          "base_uri": "https://localhost:8080/"
        },
        "id": "7Doty9tmW3as",
        "outputId": "6c099da5-af25-412f-a9c9-88b1b84ed67a"
      },
      "source": [
        "from keras.datasets import mnist\r\n",
        "(train_images, train_labels),(test_images, test_labels) = mnist.load_data()"
      ],
      "execution_count": null,
      "outputs": [
        {
          "output_type": "stream",
          "text": [
            "Downloading data from https://storage.googleapis.com/tensorflow/tf-keras-datasets/mnist.npz\n",
            "11493376/11490434 [==============================] - 0s 0us/step\n"
          ],
          "name": "stdout"
        }
      ]
    },
    {
      "cell_type": "code",
      "metadata": {
        "colab": {
          "base_uri": "https://localhost:8080/"
        },
        "id": "rKAQhhb5XQ8G",
        "outputId": "56912895-ed86-42af-e601-1492e7c50af4"
      },
      "source": [
        "print(train_images.ndim)"
      ],
      "execution_count": null,
      "outputs": [
        {
          "output_type": "stream",
          "text": [
            "3\n"
          ],
          "name": "stdout"
        }
      ]
    },
    {
      "cell_type": "code",
      "metadata": {
        "colab": {
          "base_uri": "https://localhost:8080/"
        },
        "id": "N1yerDOdXkXt",
        "outputId": "090cd870-689f-44a4-be5c-2a3fb2af89c6"
      },
      "source": [
        "print(train_images.shape) #görüntülerden kaç tane var her birinde yükselik ve genişliği nedir"
      ],
      "execution_count": null,
      "outputs": [
        {
          "output_type": "stream",
          "text": [
            "(60000, 28, 28)\n"
          ],
          "name": "stdout"
        }
      ]
    },
    {
      "cell_type": "code",
      "metadata": {
        "colab": {
          "base_uri": "https://localhost:8080/"
        },
        "id": "CmqWi_mqXxJx",
        "outputId": "db593a0a-6b99-48e3-c6e2-1e1ef2e09cd6"
      },
      "source": [
        "print(test_images.shape)"
      ],
      "execution_count": null,
      "outputs": [
        {
          "output_type": "stream",
          "text": [
            "(10000, 28, 28)\n"
          ],
          "name": "stdout"
        }
      ]
    },
    {
      "cell_type": "code",
      "metadata": {
        "id": "r241dFp8Y64U"
      },
      "source": [
        "digit = train_images[45]\r\n"
      ],
      "execution_count": null,
      "outputs": []
    },
    {
      "cell_type": "code",
      "metadata": {
        "colab": {
          "base_uri": "https://localhost:8080/",
          "height": 265
        },
        "id": "tq6BRgvQZACT",
        "outputId": "e5748c14-f96e-43f5-de23-acf6d984ed9c"
      },
      "source": [
        "import matplotlib.pyplot as plt\r\n",
        "plt.imshow(digit, cmap=plt.cm.binary)\r\n",
        "#cmap=plt.cm.binary --> siyah beyaz yapıyor.\r\n",
        "plt.show()"
      ],
      "execution_count": null,
      "outputs": [
        {
          "output_type": "display_data",
          "data": {
            "image/png": "[encoded data removed]",
            "text/plain": [
              "<Figure size 432x288 with 1 Axes>"
            ]
          },
          "metadata": {
            "tags": [],
            "needs_background": "light"
          }
        }
      ]
    },
    {
      "cell_type": "code",
      "metadata": {
        "colab": {
          "base_uri": "https://localhost:8080/"
        },
        "id": "4bCfy6q7ZWE_",
        "outputId": "c40684fc-a6b7-460a-cdbc-b7238efbbc45"
      },
      "source": [
        "dizinim = train_images[7:77]\r\n",
        "print(dizinim.shape)\r\n"
      ],
      "execution_count": null,
      "outputs": [
        {
          "output_type": "stream",
          "text": [
            "(70, 28, 28)\n"
          ],
          "name": "stdout"
        }
      ]
    },
    {
      "cell_type": "code",
      "metadata": {
        "colab": {
          "base_uri": "https://localhost:8080/"
        },
        "id": "HGJ0GqTXZitw",
        "outputId": "a539e13e-79ee-4290-a817-67fbdf525ac0"
      },
      "source": [
        "dizinim = train_images[7:77, :,:]\r\n",
        "print(dizinim.shape)"
      ],
      "execution_count": null,
      "outputs": [
        {
          "output_type": "stream",
          "text": [
            "(70, 28, 28)\n"
          ],
          "name": "stdout"
        }
      ]
    },
    {
      "cell_type": "code",
      "metadata": {
        "colab": {
          "base_uri": "https://localhost:8080/"
        },
        "id": "BdO_fWUTZ43r",
        "outputId": "7e53507e-e80f-4f03-93a9-8f9a1719023c"
      },
      "source": [
        "dizinim = train_images[7:77, :14,0:14]\r\n",
        "print(dizinim.shape)"
      ],
      "execution_count": null,
      "outputs": [
        {
          "output_type": "stream",
          "text": [
            "(70, 14, 14)\n"
          ],
          "name": "stdout"
        }
      ]
    },
    {
      "cell_type": "markdown",
      "metadata": {
        "id": "2PbVoHSfbD25"
      },
      "source": [
        "# İşlemler"
      ]
    },
    {
      "cell_type": "code",
      "metadata": {
        "id": "eYRFFtLP0w88"
      },
      "source": [
        "import numpy as np"
      ],
      "execution_count": 5,
      "outputs": []
    },
    {
      "cell_type": "code",
      "metadata": {
        "id": "pjsXbUPnbCAI"
      },
      "source": [
        "#matrislerde toplama işlemi böyle yapılır.\r\n",
        "def naive_add(x, y):\r\n",
        "  assert len(x.shape) == 2 # x ve y 2 boyutlu numpy tensoru olan tanımlandı.\r\n",
        "  assert x.shape == y.shape\r\n",
        "  x = x.copy()\r\n",
        "\r\n",
        "  for i in range(x.shape[0]):\r\n",
        "    for j in range(x.shape[1]):\r\n",
        "      x[i, j] += y[i, j]\r\n",
        "  return x"
      ],
      "execution_count": 10,
      "outputs": []
    },
    {
      "cell_type": "code",
      "metadata": {
        "colab": {
          "base_uri": "https://localhost:8080/"
        },
        "id": "7o7uuL8L0QIQ",
        "outputId": "eb336717-f6f6-450f-d335-6cccd7b6476a"
      },
      "source": [
        "x= np.array([[7, 14, 21],\r\n",
        "            [7, 14, 21],\r\n",
        "            [7, 14, 21]])\r\n",
        "y= np.array([[2,2,2],\r\n",
        "            [4,4,4],\r\n",
        "            [6,6,6]])\r\n",
        "z = naive_add(x, y)\r\n",
        "z"
      ],
      "execution_count": 11,
      "outputs": [
        {
          "output_type": "execute_result",
          "data": {
            "text/plain": [
              "array([[ 9, 16, 23],\n",
              "       [11, 18, 25],\n",
              "       [13, 20, 27]])"
            ]
          },
          "metadata": {
            "tags": []
          },
          "execution_count": 11
        }
      ]
    },
    {
      "cell_type": "code",
      "metadata": {
        "colab": {
          "base_uri": "https://localhost:8080/"
        },
        "id": "dZjxUdBb1Ico",
        "outputId": "784293f8-506f-45d0-cd0c-b9d7e5fd6a4f"
      },
      "source": [
        "#yukarıdaki gibi uzun uzun yapmaya gerek yok. Aynı işlemi aşağıdaki kod parçacığıylada yapabiliriz.\r\n",
        "import numpy as np\r\n",
        "x= np.array([[7, 14, 21],\r\n",
        "            [7, 14, 21],\r\n",
        "            [7, 14, 21]])\r\n",
        "y= np.array([[2,2,2],\r\n",
        "            [4,4,4],\r\n",
        "            [6,6,6]])\r\n",
        "z= x+y\r\n",
        "z"
      ],
      "execution_count": 9,
      "outputs": [
        {
          "output_type": "execute_result",
          "data": {
            "text/plain": [
              "array([[ 9, 16, 23],\n",
              "       [11, 18, 25],\n",
              "       [13, 20, 27]])"
            ]
          },
          "metadata": {
            "tags": []
          },
          "execution_count": 9
        }
      ]
    },
    {
      "cell_type": "code",
      "metadata": {
        "id": "nybKnBeR112L"
      },
      "source": [
        "def naive_relu(x):\r\n",
        "  assert len(x.shape) == 2 \r\n",
        "\r\n",
        "  x = x.copy()\r\n",
        "\r\n",
        "  for i in range(x.shape[0]):\r\n",
        "    for j in range(x.shape[1]):\r\n",
        "      x[i, j] = max(x[i, j], 0)\r\n",
        "  return x"
      ],
      "execution_count": 15,
      "outputs": []
    },
    {
      "cell_type": "code",
      "metadata": {
        "colab": {
          "base_uri": "https://localhost:8080/"
        },
        "id": "AxT3xghR2VGw",
        "outputId": "8e9b38c4-7fc9-4dcf-9411-50401154f390"
      },
      "source": [
        "import numpy as np\r\n",
        "x= np.array([[7, -14, 21],\r\n",
        "            [7, 14, -21],\r\n",
        "            [-7, 14, 21]])\r\n",
        "y= np.array([[2,-2,2],\r\n",
        "            [4,-4,4],\r\n",
        "            [6,-6,6]])\r\n",
        "z = naive_relu(x)\r\n",
        "z"
      ],
      "execution_count": 18,
      "outputs": [
        {
          "output_type": "execute_result",
          "data": {
            "text/plain": [
              "array([[ 7,  0, 21],\n",
              "       [ 7, 14,  0],\n",
              "       [ 0, 14, 21]])"
            ]
          },
          "metadata": {
            "tags": []
          },
          "execution_count": 18
        }
      ]
    },
    {
      "cell_type": "code",
      "metadata": {
        "colab": {
          "base_uri": "https://localhost:8080/"
        },
        "id": "AZStoa2m20LP",
        "outputId": "794a6ab0-377d-4603-82c7-7d715b2197db"
      },
      "source": [
        "import numpy as np\r\n",
        "z = np.maximum(x, 0.)\r\n",
        "z"
      ],
      "execution_count": 22,
      "outputs": [
        {
          "output_type": "execute_result",
          "data": {
            "text/plain": [
              "array([[ 7.,  0., 21.],\n",
              "       [ 7., 14.,  0.],\n",
              "       [ 0., 14., 21.]])"
            ]
          },
          "metadata": {
            "tags": []
          },
          "execution_count": 22
        }
      ]
    },
    {
      "cell_type": "markdown",
      "metadata": {
        "id": "K5kThRjC3GKQ"
      },
      "source": [
        "# Yayma Operasyonu"
      ]
    },
    {
      "cell_type": "code",
      "metadata": {
        "id": "kQEON9MH3EWC"
      },
      "source": [
        "def naive_add_matris_and_vector(x, y):\r\n",
        "  assert len(x.shape) == 2\r\n",
        "  assert len(y.shape) == 1\r\n",
        "  assert x.shape[1] == y.shape[0]\r\n",
        "\r\n",
        "  x =x.copy()\r\n",
        "\r\n",
        "  for i in range(x.shape[0]):\r\n",
        "    for j in range(x.shape[1]):\r\n",
        "      x[i, j] += y[j]\r\n",
        "  return x"
      ],
      "execution_count": 25,
      "outputs": []
    },
    {
      "cell_type": "code",
      "metadata": {
        "colab": {
          "base_uri": "https://localhost:8080/"
        },
        "id": "Wi0t6DmR3vSu",
        "outputId": "77f7de25-4b45-4ff7-d5f6-72dbaa6fdf96"
      },
      "source": [
        "x= np.array([[7, 14, 21],\r\n",
        "            [7, 14, 21],\r\n",
        "            [7, 14, 21]])\r\n",
        "y = np.array([1, 2, 3])\r\n",
        "z= naive_add_matris_and_vector(x, y)\r\n",
        "z"
      ],
      "execution_count": 26,
      "outputs": [
        {
          "output_type": "execute_result",
          "data": {
            "text/plain": [
              "array([[ 8, 16, 24],\n",
              "       [ 8, 16, 24],\n",
              "       [ 8, 16, 24]])"
            ]
          },
          "metadata": {
            "tags": []
          },
          "execution_count": 26
        }
      ]
    },
    {
      "cell_type": "code",
      "metadata": {
        "colab": {
          "base_uri": "https://localhost:8080/"
        },
        "id": "TfPN6TdX4PN1",
        "outputId": "d16aad49-3a84-4865-ba55-980c3c15298c"
      },
      "source": [
        "x = np.random.random((64,3,32,10))\r\n",
        "y = np.random.random((32,10))\r\n",
        "\r\n",
        "z= np.maximum(x, y)\r\n",
        "z.shape"
      ],
      "execution_count": 31,
      "outputs": [
        {
          "output_type": "execute_result",
          "data": {
            "text/plain": [
              "(64, 3, 32, 10)"
            ]
          },
          "metadata": {
            "tags": []
          },
          "execution_count": 31
        }
      ]
    },
    {
      "cell_type": "markdown",
      "metadata": {
        "id": "tADGQnHC9XYL"
      },
      "source": [
        "# İç çarpım işlemi"
      ]
    },
    {
      "cell_type": "code",
      "metadata": {
        "colab": {
          "base_uri": "https://localhost:8080/"
        },
        "id": "dDl1Cck_9aI3",
        "outputId": "e84de8d3-26d9-4f93-9f53-f032dc0337e7"
      },
      "source": [
        "import numpy as np\r\n",
        "x = np.array([[1, 2],\r\n",
        "              [1, 2]])\r\n",
        "y = np.array([[1, 2],\r\n",
        "              [1, 2]])\r\n",
        "z = np.dot(x, y)\r\n",
        "z"
      ],
      "execution_count": 32,
      "outputs": [
        {
          "output_type": "execute_result",
          "data": {
            "text/plain": [
              "array([[3, 6],\n",
              "       [3, 6]])"
            ]
          },
          "metadata": {
            "tags": []
          },
          "execution_count": 32
        }
      ]
    },
    {
      "cell_type": "markdown",
      "metadata": {
        "id": "jMeKJU1h91D_"
      },
      "source": [
        "# Kanal / şekil değiştirme"
      ]
    },
    {
      "cell_type": "code",
      "metadata": {
        "colab": {
          "base_uri": "https://localhost:8080/"
        },
        "id": "9Ugsq_g_95ni",
        "outputId": "0f29fa02-a009-495f-e283-67f4afd7a5dc"
      },
      "source": [
        "x = np.array([[0., 1.],\r\n",
        "              [2., 3.],\r\n",
        "              [4., 5.]])\r\n",
        "x.shape"
      ],
      "execution_count": 33,
      "outputs": [
        {
          "output_type": "execute_result",
          "data": {
            "text/plain": [
              "(3, 2)"
            ]
          },
          "metadata": {
            "tags": []
          },
          "execution_count": 33
        }
      ]
    },
    {
      "cell_type": "code",
      "metadata": {
        "colab": {
          "base_uri": "https://localhost:8080/"
        },
        "id": "stdtAjUb-W11",
        "outputId": "e3a75326-208b-427e-d5e8-c0242ebde7de"
      },
      "source": [
        "x = x.reshape((6, 1))\r\n",
        "x"
      ],
      "execution_count": 34,
      "outputs": [
        {
          "output_type": "execute_result",
          "data": {
            "text/plain": [
              "array([[0.],\n",
              "       [1.],\n",
              "       [2.],\n",
              "       [3.],\n",
              "       [4.],\n",
              "       [5.]])"
            ]
          },
          "metadata": {
            "tags": []
          },
          "execution_count": 34
        }
      ]
    },
    {
      "cell_type": "code",
      "metadata": {
        "colab": {
          "base_uri": "https://localhost:8080/"
        },
        "id": "LW6P3kt0-fs0",
        "outputId": "ae6a206f-a9cd-41ee-894f-f14c2af91bfe"
      },
      "source": [
        "x = x.reshape((3, 2))\r\n",
        "x"
      ],
      "execution_count": 35,
      "outputs": [
        {
          "output_type": "execute_result",
          "data": {
            "text/plain": [
              "array([[0., 1.],\n",
              "       [2., 3.],\n",
              "       [4., 5.]])"
            ]
          },
          "metadata": {
            "tags": []
          },
          "execution_count": 35
        }
      ]
    },
    {
      "cell_type": "code",
      "metadata": {
        "colab": {
          "base_uri": "https://localhost:8080/"
        },
        "id": "5b_ZmI-M-pt8",
        "outputId": "ceacdf91-facd-4136-d114-4b664b83b55f"
      },
      "source": [
        "x = np.zeros((100, 10))\r\n",
        "x = np.transpose(x)\r\n",
        "print(x.shape)"
      ],
      "execution_count": 36,
      "outputs": [
        {
          "output_type": "stream",
          "text": [
            "(10, 100)\n"
          ],
          "name": "stdout"
        }
      ]
    }
  ]
}